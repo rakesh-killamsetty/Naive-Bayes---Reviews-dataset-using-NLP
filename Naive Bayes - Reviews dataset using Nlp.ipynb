{
  "nbformat": 4,
  "nbformat_minor": 0,
  "metadata": {
    "colab": {
      "provenance": []
    },
    "kernelspec": {
      "name": "python3",
      "display_name": "Python 3"
    },
    "language_info": {
      "name": "python"
    }
  },
  "cells": [
    {
      "cell_type": "code",
      "execution_count": null,
      "metadata": {
        "id": "aneDbjsurkCJ"
      },
      "outputs": [],
      "source": [
        "import numpy as np\n",
        "import pandas as pd\n",
        "import matplotlib.pyplot as plt\n"
      ]
    },
    {
      "cell_type": "code",
      "source": [
        "data=pd.read_csv(\"/content/Reviews.tsv\",delimiter='\\t',quoting=3)\n",
        "data"
      ],
      "metadata": {
        "id": "fuc2rvVPs8Pr"
      },
      "execution_count": null,
      "outputs": []
    },
    {
      "cell_type": "code",
      "source": [
        "data.shape"
      ],
      "metadata": {
        "id": "MO_RyNOutxDM"
      },
      "execution_count": null,
      "outputs": []
    },
    {
      "cell_type": "code",
      "source": [
        "import re\n",
        "import nltk  #natural Language Took Kit\n",
        "nltk.download('stopwords') #Stopwords is the module we have downloaded it from nltk\n",
        "from nltk.corpus import stopwords\n",
        "from nltk.stem.porter import PorterStemmer #removes all the suffix words and identifies only the root words\n",
        "bag=[] #Empty list\n",
        "v=set(stopwords.words('english')) #contains all the unwanted words and all also some useful words\n",
        "w={'not','no','ain','against','aren','couldn',\"couldn't\",'didn',\"didn't\",'doses',\"doesn't\",'hadn',\"hadn't\",'hasn',\"hasn't\",'haven',\"haven't\",'isn'\n",
        "    \"isn't\",'ma','mightn',\"mightn't\",'mustn',\"mustn't\",'needn',\"needn't\",'shan',\"shan't\",'shouldn',\"shouldn't\",'wasn',\"wasn't\",'weren',\"weren't\",'won',\"won't\",'wouldn',\"wouldn't\"}\n",
        "#w are some useful words which are included in stopwords which are to be removed\n",
        "t=v-w #removes all the useful words\n",
        "for i in range(0,1000):\n",
        "  review=re.sub('[^a-zA-Z]',' ',data['Review'][i]) #it only considers the alphabets if there are any other characters other than alphabets those characters are replaced by space\n",
        "  review=review.lower() #converts all the words into lower case\n",
        "  review=review.split() #it splits word by word\n",
        "  ps=PorterStemmer() #identifies only the root words\n",
        "  all_stopwords=t\n",
        "  review=[ps.stem(word) for word in review if not word in set(all_stopwords)] #the word should not be present in the all stopwords\n",
        "  review=' '.join(review) #it is used to join the words where the space is identified\n",
        "  bag.append(review) #add all these words into the list"
      ],
      "metadata": {
        "id": "jdfvrfnnty0u"
      },
      "execution_count": null,
      "outputs": []
    },
    {
      "cell_type": "code",
      "source": [
        "print(stopwords.words(\"english\"))"
      ],
      "metadata": {
        "id": "2GBNM-lIzkqF"
      },
      "execution_count": null,
      "outputs": []
    },
    {
      "cell_type": "code",
      "source": [
        "print(t)"
      ],
      "metadata": {
        "id": "R80vfFcz1SSN"
      },
      "execution_count": null,
      "outputs": []
    },
    {
      "cell_type": "code",
      "source": [
        "bag"
      ],
      "metadata": {
        "id": "YGfj16rw2owV"
      },
      "execution_count": null,
      "outputs": []
    },
    {
      "cell_type": "code",
      "source": [
        "h=len(bag)\n",
        "h"
      ],
      "metadata": {
        "id": "fAu38D_K3QPs"
      },
      "execution_count": null,
      "outputs": []
    },
    {
      "cell_type": "code",
      "source": [
        "from sklearn.feature_extraction.text import CountVectorizer #for tokenization\n",
        "cv= CountVectorizer(max_features=1600)\n",
        "X=cv.fit_transform(bag).toarray()\n",
        "y=data['Liked']"
      ],
      "metadata": {
        "id": "jGlCkwLl3UVd"
      },
      "execution_count": null,
      "outputs": []
    },
    {
      "cell_type": "code",
      "source": [
        "from sklearn.model_selection import train_test_split\n",
        "X_train,X_test,y_train,y_test=train_test_split(X,y,test_size=0.20,random_state=0)"
      ],
      "metadata": {
        "id": "tkJDZZvN7ea2"
      },
      "execution_count": null,
      "outputs": []
    },
    {
      "cell_type": "code",
      "source": [
        "from sklearn.naive_bayes import GaussianNB\n",
        "classifier=GaussianNB()\n",
        "classifier.fit(X_train,y_train)"
      ],
      "metadata": {
        "id": "uw-Y4nLX8y1a"
      },
      "execution_count": null,
      "outputs": []
    },
    {
      "cell_type": "code",
      "source": [
        "ypred=classifier.predict(X_test)\n",
        "ypred"
      ],
      "metadata": {
        "id": "Mlmdwdz-9Lv9"
      },
      "execution_count": null,
      "outputs": []
    },
    {
      "cell_type": "code",
      "source": [
        "from sklearn.metrics import confusion_matrix,accuracy_score\n",
        "cm=confusion_matrix(y_test,ypred)\n",
        "cm"
      ],
      "metadata": {
        "id": "Kb9z9PSw9b_l"
      },
      "execution_count": null,
      "outputs": []
    },
    {
      "cell_type": "code",
      "source": [
        "accuracy_score(y_test,ypred)"
      ],
      "metadata": {
        "id": "mC7Yxs759n2D"
      },
      "execution_count": null,
      "outputs": []
    },
    {
      "cell_type": "code",
      "source": [
        "new_review='Its Good'\n",
        "new_review=re.sub('[^a-zA-Z]',' ',new_review)\n",
        "new_review=new_review.lower()\n",
        "new_review=new_review.split()\n",
        "ps=PorterStemmer()\n",
        "all_stopwords=t\n",
        "new_review=[ps.stem(word) for word in review if not word in set(all_stopwords)]\n",
        "new_review=' '.join(review)\n",
        "new_bag=[new_review]\n",
        "new_X_test=cv.transform(new_bag).toarray() # converts words to array\n",
        "new_ypred=classifier.predict(new_X_test)\n",
        "print(new_ypred)"
      ],
      "metadata": {
        "id": "OrngZcaT-VPl",
        "colab": {
          "base_uri": "https://localhost:8080/"
        },
        "outputId": "e9d47833-5106-4def-831b-c81f6b36d0f3"
      },
      "execution_count": null,
      "outputs": [
        {
          "output_type": "stream",
          "name": "stdout",
          "text": [
            "[1]\n"
          ]
        }
      ]
    },
    {
      "cell_type": "code",
      "source": [
        "### Dora tree program\n",
        "##mango tree problem\n",
        "\n",
        "rows=int(input())\n",
        "col=int(input())\n",
        "tree=int(input())\n",
        "\n",
        "'''\n",
        "1 2 3 4 5\n",
        "6 7 8 9 10\n",
        "11 12 13 14 15\n",
        "16 17 18 19 20\n",
        "21 22 23 24 25\n",
        "\n",
        "'''\n",
        "\n",
        "if(tree>=1 and tree<=5 or tree%rows==1 or tree%rows==0):\n",
        "  print(\"yes\")\n",
        "else:\n",
        "  print(\"no\")"
      ],
      "metadata": {
        "colab": {
          "base_uri": "https://localhost:8080/"
        },
        "id": "s9v1TJxzcUwn",
        "outputId": "f277c313-87a0-46f2-f131-8eb5f504b2a2"
      },
      "execution_count": null,
      "outputs": [
        {
          "output_type": "stream",
          "name": "stdout",
          "text": [
            "5\n",
            "5\n",
            "11\n",
            "yes\n"
          ]
        }
      ]
    },
    {
      "cell_type": "code",
      "source": [],
      "metadata": {
        "id": "N4tt6OxxcXuL"
      },
      "execution_count": null,
      "outputs": []
    }
  ]
}